{
 "cells": [
  {
   "cell_type": "markdown",
   "id": "89dd3828",
   "metadata": {
    "id": "89dd3828"
   },
   "source": [
    "## Задание 1. \n",
    "\n",
    "Посмотреть документацию к API GitHub, разобраться как вывести список репозиториев для конкретного пользователя, сохранить JSON-вывод в файле *.json."
   ]
  },
  {
   "cell_type": "code",
   "execution_count": 1,
   "id": "d493e816",
   "metadata": {
    "id": "d493e816"
   },
   "outputs": [],
   "source": [
    "import requests\n",
    "from pprint import pprint\n",
    "import json"
   ]
  },
  {
   "cell_type": "code",
   "execution_count": 2,
   "id": "85237c35",
   "metadata": {
    "id": "85237c35",
    "scrolled": true
   },
   "outputs": [],
   "source": [
    "headers = {'User-Agent': 'Mozilla/5.0 (X11; Linux x86_64) AppleWebKit/537.36 (KHTML, like Gecko) Chrome/104.0.0.0 Safari/537.36'}\n",
    "url = f'https://api.github.com/users/SergeyGris/repos'\n",
    "\n",
    "response = requests.get(url, headers).json()\n",
    "\n",
    "\n",
    "with open('data.json', 'w', encoding='UTF-8') as f:\n",
    "    json.dump(response, f)"
   ]
  },
  {
   "cell_type": "code",
   "execution_count": 3,
   "id": "92fdb938",
   "metadata": {
    "colab": {
     "base_uri": "https://localhost:8080/"
    },
    "id": "92fdb938",
    "outputId": "0f68cfe6-d7bb-4fd7-ddbe-504d42f4ed87"
   },
   "outputs": [
    {
     "name": "stdout",
     "output_type": "stream",
     "text": [
      "1) Asynchronous-chat\n",
      "2) Django\n",
      "3) DRF-Project\n",
      "4) Flask-Blog\n",
      "5) Javascript\n",
      "6) linear-algebra\n",
      "7) Market\n",
      "8) market_prj\n",
      "9) Methods_of_data_collection\n",
      "10) Packages_for_DataScience\n",
      "11) PyDev\n"
     ]
    }
   ],
   "source": [
    "for x, y in enumerate(response):\n",
    "    print(f\"{x+1}) {y.get('name')}\")"
   ]
  },
  {
   "cell_type": "markdown",
   "id": "ed4888af",
   "metadata": {
    "id": "ed4888af"
   },
   "source": [
    "## Задание 2. \n",
    "\n",
    "Изучить список открытых API (https://www.programmableweb.com/category/all/apis). Найти среди них любое, требующее авторизацию (любого типа). Выполнить запросы к нему, пройдя авторизацию. Ответ сервера записать в файл.\n",
    "Если нет желания заморачиваться с поиском, возьмите API вконтакте (https://vk.com/dev/first_guide). Сделайте запрос, чтобы получить список всех сообществ на которые вы подписаны."
   ]
  },
  {
   "cell_type": "code",
   "execution_count": 4,
   "id": "dc3fadd7",
   "metadata": {
    "id": "dc3fadd7"
   },
   "outputs": [
    {
     "name": "stdout",
     "output_type": "stream",
     "text": [
      "{'current': {'cloud': 0,\n",
      "             'condition': {'code': 1000,\n",
      "                           'icon': '//cdn.weatherapi.com/weather/64x64/night/113.png',\n",
      "                           'text': 'Clear'},\n",
      "             'feelslike_c': 8.0,\n",
      "             'feelslike_f': 46.5,\n",
      "             'gust_kph': 7.6,\n",
      "             'gust_mph': 4.7,\n",
      "             'humidity': 57,\n",
      "             'is_day': 0,\n",
      "             'last_updated': '2023-04-05 01:15',\n",
      "             'last_updated_epoch': 1680646500,\n",
      "             'precip_in': 0.0,\n",
      "             'precip_mm': 0.0,\n",
      "             'pressure_in': 30.0,\n",
      "             'pressure_mb': 1016.0,\n",
      "             'temp_c': 8.0,\n",
      "             'temp_f': 46.4,\n",
      "             'uv': 1.0,\n",
      "             'vis_km': 10.0,\n",
      "             'vis_miles': 6.0,\n",
      "             'wind_degree': 60,\n",
      "             'wind_dir': 'ENE',\n",
      "             'wind_kph': 6.8,\n",
      "             'wind_mph': 4.3},\n",
      " 'location': {'country': 'Russia',\n",
      "              'lat': 55.75,\n",
      "              'localtime': '2023-04-05 1:29',\n",
      "              'localtime_epoch': 1680647350,\n",
      "              'lon': 49.13,\n",
      "              'name': 'Kazan',\n",
      "              'region': 'Tatarstan',\n",
      "              'tz_id': 'Europe/Moscow'}}\n"
     ]
    }
   ],
   "source": [
    "url = \"https://weatherapi-com.p.rapidapi.com/current.json\"\n",
    "\n",
    "querystring = {\"q\":\"Kazan\"}\n",
    "\n",
    "headers = {\n",
    "\t\"X-RapidAPI-Key\": \"56c9d843fbmshaef63938cfad229p16bb88jsn0978760cb7ba\",\n",
    "\t\"X-RapidAPI-Host\": \"weatherapi-com.p.rapidapi.com\"\n",
    "}\n",
    "\n",
    "response = requests.request(\"GET\", url, headers=headers, params=querystring).json()\n",
    "\n",
    "pprint(response)"
   ]
  },
  {
   "cell_type": "code",
   "execution_count": 5,
   "id": "65a42007",
   "metadata": {
    "id": "65a42007",
    "scrolled": true
   },
   "outputs": [
    {
     "name": "stdout",
     "output_type": "stream",
     "text": [
      "'В городе Kazan 8.0 градусов по Цельсию'\n"
     ]
    }
   ],
   "source": [
    "pprint(f\"В городе {response['location']['name']} {response['current']['temp_c']} градусов по Цельсию\")"
   ]
  }
 ],
 "metadata": {
  "colab": {
   "collapsed_sections": [],
   "provenance": []
  },
  "kernelspec": {
   "display_name": "Python 3 (ipykernel)",
   "language": "python",
   "name": "python3"
  },
  "language_info": {
   "codemirror_mode": {
    "name": "ipython",
    "version": 3
   },
   "file_extension": ".py",
   "mimetype": "text/x-python",
   "name": "python",
   "nbconvert_exporter": "python",
   "pygments_lexer": "ipython3",
   "version": "3.9.13"
  }
 },
 "nbformat": 4,
 "nbformat_minor": 5
}
